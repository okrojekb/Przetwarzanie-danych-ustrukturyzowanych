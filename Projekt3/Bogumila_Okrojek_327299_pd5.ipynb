{
 "cells": [
  {
   "cell_type": "markdown",
   "id": "1dd3e485",
   "metadata": {},
   "source": [
    "**Imię i nazwisko:**  Bogumiła Okrojek\n",
    "\n",
    "__Rozwiązanie pracy domowej nr 5__"
   ]
  },
  {
   "cell_type": "markdown",
   "id": "e38cb141",
   "metadata": {},
   "source": [
    "## 1. Przygotowanie danych\n",
    "\n",
    "1. Wykonaj `import` potrzebnych pakietów (oprócz poniżej wymienionych), tak aby umieszczony w tym notebooku kod działał."
   ]
  },
  {
   "cell_type": "code",
   "execution_count": 1,
   "id": "674f7120",
   "metadata": {},
   "outputs": [],
   "source": [
    "import time\n",
    "import sqlite3\n",
    "import pickle\n",
    "import pandas as pd"
   ]
  },
  {
   "cell_type": "markdown",
   "id": "2e03acfe",
   "metadata": {},
   "source": [
    "2. Wczytaj ramki danych, na których będziesz dalej pracował\n",
    "\n",
    "**UWAGA:**\n",
    "* Pliki muszą znajdować się w katalogu \"travel_stackexchange_com\" w tym samym katalogu co ten notebook (plik .ipynb).\n",
    "* Nazwy tabel muszą być *zgodne z instrukcją zamieszczoną w treści pracy domowej*.\n"
   ]
  },
  {
   "cell_type": "code",
   "execution_count": 2,
   "id": "ff6b1c4a",
   "metadata": {},
   "outputs": [],
   "source": [
    "# DOPISZ TU ODPOWIEDNI KOD\n",
    "# Comments = ...  # wczytujemy z pliku './travel_stackexchange_com/Comments.csv.gz'\n",
    "# Posts = ...  # wczytujemy z pliku './travel_stackexchange_com/Posts.csv.gz'\n",
    "# Users = ...  # wczytujemy z pliku './travel_stackexchange_com/Users.csv.gz'\n",
    "Posts = pd.read_csv(\"./travel_stackexchange_com/Posts.csv.gz\", compression='gzip')\n",
    "Comments = pd.read_csv(\"./travel_stackexchange_com/Comments.csv.gz\", compression='gzip')\n",
    "Users = pd.read_csv(\"./travel_stackexchange_com/Users.csv.gz\", compression='gzip')"
   ]
  },
  {
   "cell_type": "markdown",
   "id": "7cd450d9",
   "metadata": {},
   "source": [
    "3. Przygotuj bazę danych wykonując poniższą komórkę."
   ]
  },
  {
   "cell_type": "code",
   "execution_count": 3,
   "id": "5f45cdac",
   "metadata": {},
   "outputs": [],
   "source": [
    "# NIE MODYFIKUJ TEJ KOMÓRKI\n",
    "SCIEZKA_BAZY = './pd5_baza.db'  # Ścieżka do pliku z bazą danych ('./' oznacza bieżący katalog, czyli będzie to plik w tym samym katalogu, co ten notebook).\n",
    "with sqlite3.connect(SCIEZKA_BAZY) as conn: # połączenie do bazy danych\n",
    "    # wewnątrz bloku `with` mamy dostępny obiekt połączenia, które jest automatycznie zamykane po jego opuszczeniu.\n",
    "    Comments.to_sql(\"Comments\", conn, if_exists='replace')  # jeżeli ramka danych już istnieje, to jest nadpisywana.\n",
    "    Posts.to_sql(\"Posts\", conn, if_exists='replace')\n",
    "    Users.to_sql(\"Users\", conn, if_exists='replace')"
   ]
  },
  {
   "cell_type": "markdown",
   "id": "279090f6",
   "metadata": {},
   "source": [
    "## 2. Wyniki zapytań SQL\n",
    "\n",
    "Wykonaj zapytania sql. Poniższy kod zapisze też wynik do pliku bazy - potem można go z niej odczytać."
   ]
  },
  {
   "cell_type": "markdown",
   "id": "606e1cbf",
   "metadata": {},
   "source": [
    "**Uwaga**: Zapytania powinny się wykonywać nie dłużej niż kilka sekund każde,\n",
    "jednak czasem występują problemy zależne od systemu, np. pod Linuxem zapytania 3 i 5 potrafią zająć\n",
    "odp. kilka minut i ponad godzinę. Żeby obejść ten problem pod koniec tej sekcji pokazane jest, jak\n",
    "zapisać wyniki zapytań do tymczasowych plików `pickle`.\n"
   ]
  },
  {
   "cell_type": "code",
   "execution_count": 24,
   "id": "89492c6c",
   "metadata": {},
   "outputs": [
    {
     "name": "stdout",
     "output_type": "stream",
     "text": [
      "Wykonano zapytanie 1 w 0.05s.\n",
      "Wykonano zapytanie 2 w 0.35s.\n",
      "Wykonano zapytanie 3 w 0.29s.\n",
      "Wykonano zapytanie 4 w 0.56s.\n",
      "Wykonano zapytanie 5 w 0.58s.\n"
     ]
    }
   ],
   "source": [
    "# NIE MODYFIKUJ TEJ KOMÓRKI (poza ew. zakomentowaniem wywoływania zapytań)\n",
    "zapytanie_1 = \"\"\"\n",
    "SELECT Location, SUM(UpVotes) as TotalUpVotes\n",
    "FROM Users\n",
    "WHERE Location != ''\n",
    "GROUP BY Location\n",
    "ORDER BY TotalUpVotes DESC\n",
    "LIMIT 10\n",
    "\"\"\"\n",
    "\n",
    "zapytanie_2 = \"\"\"\n",
    "SELECT STRFTIME('%Y', CreationDate) AS Year,\n",
    "       STRFTIME('%m', CreationDate) AS Month,\n",
    "       COUNT(*) AS PostsNumber, MAX(Score) AS MaxScore\n",
    "FROM Posts\n",
    "WHERE PostTypeId IN (1, 2)\n",
    "GROUP BY Year, Month\n",
    "HAVING PostsNumber > 1000\n",
    "\"\"\"\n",
    "\n",
    "zapytanie_3 = \"\"\"\n",
    "SELECT Id, DisplayName, TotalViews\n",
    "FROM (\n",
    "        SELECT OwnerUserId, SUM(ViewCount) as TotalViews\n",
    "        FROM Posts\n",
    "        WHERE PostTypeId = 1\n",
    "        GROUP BY OwnerUserId\n",
    "    ) AS Questions\n",
    "JOIN Users\n",
    "ON Users.Id = Questions.OwnerUserId\n",
    "ORDER BY TotalViews DESC\n",
    "LIMIT 10\n",
    "\"\"\"\n",
    "\n",
    "zapytanie_4 = \"\"\"\n",
    "SELECT DisplayName, QuestionsNumber, AnswersNumber, Location, Reputation, UpVotes, DownVotes\n",
    "FROM (\n",
    "        SELECT *\n",
    "        FROM (\n",
    "                SELECT COUNT(*) as AnswersNumber, OwnerUserId\n",
    "                FROM Posts\n",
    "                WHERE PostTypeId = 2\n",
    "                GROUP BY OwnerUserId\n",
    "            ) AS Answers\n",
    "        JOIN\n",
    "            (\n",
    "                SELECT COUNT(*) as QuestionsNumber, OwnerUserId\n",
    "                FROM Posts\n",
    "                WHERE PostTypeId = 1\n",
    "                GROUP BY OwnerUserId\n",
    "            ) AS Questions\n",
    "        ON Answers.OwnerUserId = Questions.OwnerUserId\n",
    "        WHERE AnswersNumber > QuestionsNumber\n",
    "        ORDER BY AnswersNumber DESC\n",
    "        LIMIT 5\n",
    "    ) AS PostsCounts\n",
    "JOIN Users\n",
    "ON PostsCounts.OwnerUserId = Users.Id\n",
    "\"\"\"\n",
    "\n",
    "zapytanie_5 = \"\"\"\n",
    "SELECT Title, CommentCount, ViewCount, CommentsTotalScore, DisplayName, Reputation, Location\n",
    "FROM (\n",
    "        SELECT Posts.OwnerUserId, Posts.Title, Posts.CommentCount, Posts.ViewCount,\n",
    "               CmtTotScr.CommentsTotalScore\n",
    "        FROM (\n",
    "                SELECT PostId, SUM(Score) AS CommentsTotalScore\n",
    "                FROM Comments\n",
    "                GROUP BY PostId\n",
    "            ) AS CmtTotScr\n",
    "        JOIN Posts ON Posts.Id = CmtTotScr.PostId\n",
    "        WHERE Posts.PostTypeId=1\n",
    "    ) AS PostsBestComments\n",
    "JOIN Users ON PostsBestComments.OwnerUserId = Users.Id\n",
    "ORDER BY CommentsTotalScore DESC\n",
    "LIMIT 10\n",
    "\"\"\"\n",
    "\n",
    "def wykonaj_zapytanie(zap, k, conn_):\n",
    "    \"\"\"\n",
    "    Wykonuje zapytanie zap (str) o numerze k (int) przy użyciu połączenia z bazą w obiekcie conn_.\n",
    "    Wypisuje czas wykonania zapytania w sekundach (dokładnie tzw. Wall Clock Time, czyli czas rzeczywisty, który upłynął).\n",
    "    Zwraca wynik zapytania jako ramkę danych Pandas.\n",
    "    \"\"\"\n",
    "    t0 = time.time()  # zapisanie obecnego czasu do zmiennej\n",
    "    wynik = pd.read_sql_query(zap, conn_)  # wykonanie zapytania\n",
    "    t = time.time() - t0  # czas (w sekundach), jaki zajęło wykonania zapytania\n",
    "    print(f'Wykonano zapytanie {k} w {t:.2f}s.')\n",
    "    return wynik\n",
    "\n",
    "# Poniższy blok with wykonuje wszystkie 5 zapytań;\n",
    "# Wyniki umieszcza w zmiennych sql_i.\n",
    "with sqlite3.connect(SCIEZKA_BAZY) as conn:\n",
    "    sql_1 = wykonaj_zapytanie(zapytanie_1, 1, conn)\n",
    "    sql_2 = wykonaj_zapytanie(zapytanie_2, 2, conn)\n",
    "    sql_3 = wykonaj_zapytanie(zapytanie_3, 3, conn)\n",
    "    sql_4 = wykonaj_zapytanie(zapytanie_4, 4, conn)\n",
    "    sql_5 = wykonaj_zapytanie(zapytanie_5, 5, conn)"
   ]
  },
  {
   "cell_type": "markdown",
   "id": "9e2a2d4c",
   "metadata": {},
   "source": [
    "Moduł `pickle` to system serializacji (konwersji danych do postaci mogącej być zapisaną na dysku/przesłaną przez sieć) obiektów Pythona.\n",
    "W przeciwieństwie do plików np `csv` można zapisywać niemal dowonly obiekt Pythona. Minusem jest niemożliwość przeczytania takiego obiektu inaczej, niż przez program napisany w Pythonie.\n",
    "\n",
    "Poniższy kod zapisze wyniki zapytań (ramiki danych Pandas) do takich plików, aby można je potem było szybko odczytać.\n",
    "**Nie trzeba z niego korzystać, jeżeli nie ma problemów z wykonaniem zapytań SQL.**"
   ]
  },
  {
   "cell_type": "code",
   "execution_count": null,
   "id": "d598252a",
   "metadata": {},
   "outputs": [],
   "source": [
    "# Zapisanie każdej z ramek danych opisujących wyniki zapytań SQL do osobnego pliku pickle.\n",
    "for i, df in enumerate([sql_1, sql_2, sql_3, sql_4, sql_5], 1):\n",
    "    df.to_pickle(f'sql_{i}.pkl.gz')"
   ]
  },
  {
   "cell_type": "code",
   "execution_count": null,
   "id": "3015ecc9",
   "metadata": {},
   "outputs": [],
   "source": [
    "# Wczytanie policzonych uprzednio wyników z plików pickle (możesz to zrobić, jeżeli zapytania wykonują się za długo).\n",
    "sql_1, sql_2, sql_3, sql_4, sql_5 = [\n",
    "    pd.read_pickle(f'sql_{i}.pkl.gz') for i in range(1, 5 + 1)\n",
    "]"
   ]
  },
  {
   "cell_type": "markdown",
   "id": "03742456",
   "metadata": {},
   "source": [
    "## 3. Wyniki zapytań SQL odtworzone przy użyciu metod pakietu Pandas.\n",
    "\n",
    "Wynikowa ramka danych do zapytania 1 powinna nazywać się `pandas_1`, do drugiego `pandas_2` itd."
   ]
  },
  {
   "cell_type": "markdown",
   "id": "77a1dd40",
   "metadata": {},
   "source": [
    "### Zadanie 1"
   ]
  },
  {
   "cell_type": "code",
   "execution_count": 18,
   "id": "344f69d7",
   "metadata": {},
   "outputs": [
    {
     "name": "stdout",
     "output_type": "stream",
     "text": [
      "True\n"
     ]
    }
   ],
   "source": [
    "try:\n",
    "    pandas_1 = pd.DataFrame(Users.loc[Users[\"Location\"] != \"\"].groupby(\"Location\", as_index = False)[\"UpVotes\"].sum())\\\n",
    ".sort_values([\"UpVotes\"], ascending=False).rename(columns = {\"UpVotes\": \"TotalUpVotes\"}).reset_index(drop = True).head(10)\n",
    "    # tu umiesc swoje końcowe rozwiazanie\n",
    "    # wynikowa ramka danych powinna się nazywać\n",
    "    # pandas_1\n",
    "    # ...\n",
    "    # sprawdzenie równoważności wyników\n",
    "    print(pandas_1.equals(sql_1))\n",
    "\n",
    "except Exception as e:\n",
    "    print(\"Zad. 1: niepoprawny wynik.\")\n",
    "    print(e)"
   ]
  },
  {
   "cell_type": "markdown",
   "id": "813901d2",
   "metadata": {},
   "source": [
    "### Zadanie 2"
   ]
  },
  {
   "cell_type": "code",
   "execution_count": 19,
   "id": "128bd9ec",
   "metadata": {},
   "outputs": [
    {
     "name": "stdout",
     "output_type": "stream",
     "text": [
      "True\n"
     ]
    }
   ],
   "source": [
    "try:\n",
    "    # tu umiesc swoje końcowe rozwiazanie\n",
    "    # wynikowa ramka danych powinna się nazywać\n",
    "    # pandas_2\n",
    "    \n",
    "    x = Posts.loc[(Posts[\"PostTypeId\"] == 1) | (Posts[\"PostTypeId\"] == 2)]\n",
    "    daty = pd.to_datetime(x[\"CreationDate\"])\n",
    "    Year = daty.dt.year.astype(str)\n",
    "    Month = daty.dt.month.astype(str).str.zfill(2)\n",
    "    y = x.assign(Year = Year, Month = Month)\n",
    "    z = y.groupby([\"Year\", \"Month\"], as_index = False)[\"Score\"].agg([\"count\", \"max\"])\\\n",
    "    .rename(columns = {\"count\": \"PostsNumber\", \"max\": \"MaxScore\"}).reset_index()\n",
    "    pandas_2 = z.loc[z[\"PostsNumber\"] > 1000].reset_index(drop = True)\n",
    "    \n",
    "    # ...\n",
    "    # sprawdzenie równoważności wyników\n",
    "    print(pandas_2.equals(sql_2))\n",
    "\n",
    "except Exception as e:\n",
    "    print(\"Zad. 2: niepoprawny wynik.\")\n",
    "    print(e)"
   ]
  },
  {
   "cell_type": "markdown",
   "id": "bc6f4573",
   "metadata": {},
   "source": [
    "### Zadanie 3"
   ]
  },
  {
   "cell_type": "code",
   "execution_count": 20,
   "id": "f17b3c05",
   "metadata": {},
   "outputs": [
    {
     "name": "stdout",
     "output_type": "stream",
     "text": [
      "True\n"
     ]
    }
   ],
   "source": [
    "try:\n",
    "    # tu umiesc swoje końcowe rozwiazanie\n",
    "    # wynikowa ramka danych powinna się nazywać\n",
    "    # pandas_3\n",
    "    Questions = Posts.loc[Posts[\"PostTypeId\"] == 1].groupby(\"OwnerUserId\", as_index = False).sum(\"ViewCount\").\\\n",
    "    rename(columns = {\"ViewCount\": \"TotalViews\"})\n",
    "    Questions = pd.DataFrame(Questions, columns = [\"OwnerUserId\", \"TotalViews\"]).astype(float)\n",
    "    user = pd.DataFrame(Users, columns = [\"Id\", \"DisplayName\"])\n",
    "    a = user.merge(Questions, how = \"inner\", left_on= \"Id\", right_on = \"OwnerUserId\")\n",
    "    pandas_3 = pd.DataFrame(a, columns = [\"Id\", \"DisplayName\", \"TotalViews\"]).sort_values([\"TotalViews\"], ascending = False)\\\n",
    "    .reset_index(drop = True).head(10)\n",
    "    # ...\n",
    "    # sprawdzenie równoważności wyników\n",
    "    print(pandas_3.equals(sql_3))\n",
    "\n",
    "except Exception as e:\n",
    "    print(\"Zad. 3: niepoprawny wynik.\")\n",
    "    print(e)"
   ]
  },
  {
   "cell_type": "markdown",
   "id": "0e2a49f8",
   "metadata": {},
   "source": [
    "### Zadanie 4"
   ]
  },
  {
   "cell_type": "code",
   "execution_count": 21,
   "id": "fe8d92c9",
   "metadata": {},
   "outputs": [
    {
     "name": "stdout",
     "output_type": "stream",
     "text": [
      "True\n"
     ]
    }
   ],
   "source": [
    "try:\n",
    "    # tu umiesc swoje końcowe rozwiazanie\n",
    "    # wynikowa ramka danych powinna się nazywać\n",
    "    # pandas_4\n",
    "    Answers = pd.DataFrame(Posts.loc[Posts[\"PostTypeId\"]==2].groupby([\"OwnerUserId\"], as_index = False).size()\\\n",
    "                           .rename(columns = {\"size\": \"AnswersNumber\"}))\n",
    "    Questions = pd.DataFrame(Posts.loc[Posts[\"PostTypeId\"]==1].groupby([\"OwnerUserId\"], as_index = False).size()\\\n",
    "                             .rename(columns = {\"size\": \"QuestionsNumber\"}))\n",
    "    PostsCounts = Answers.merge(Questions, how = \"inner\", on = \"OwnerUserId\")\n",
    "    PostsCounts = PostsCounts.loc[PostsCounts[\"AnswersNumber\"] > PostsCounts[\"QuestionsNumber\"]]\\\n",
    "    .sort_values([\"AnswersNumber\"], ascending = False).reset_index(drop = True).head(5)\n",
    "    pandas_4 = pd.DataFrame(PostsCounts.merge(Users, how = \"inner\", left_on = \"OwnerUserId\", right_on = \"Id\"),\\\n",
    "                 columns = [\"DisplayName\", \"QuestionsNumber\", \"AnswersNumber\", \"Location\", \"Reputation\", \"UpVotes\", \"DownVotes\"])\n",
    "    \n",
    "    \n",
    "    # ...\n",
    "    # sprawdzenie równoważności wyników\n",
    "    print(pandas_4.equals(sql_4))\n",
    "\n",
    "except Exception as e:\n",
    "    print(\"Zad. 4: niepoprawny wynik.\")\n",
    "    print(e)"
   ]
  },
  {
   "cell_type": "markdown",
   "id": "4169c739",
   "metadata": {},
   "source": [
    "### Zadanie 5"
   ]
  },
  {
   "cell_type": "code",
   "execution_count": 22,
   "id": "0c9b0b6f",
   "metadata": {},
   "outputs": [
    {
     "name": "stdout",
     "output_type": "stream",
     "text": [
      "True\n"
     ]
    }
   ],
   "source": [
    "try:\n",
    "    # tu umiesc swoje końcowe rozwiazanie\n",
    "    # wynikowa ramka danych powinna się nazywać\n",
    "    # pandas_5\n",
    "    CmtTotScr = pd.DataFrame(Comments.groupby([\"PostId\"], as_index = False).sum([\"Score\"])\\\n",
    "                             .rename(columns = {\"Score\": \"CommentsTotalScore\"}), columns = [\"PostId\", \"CommentsTotalScore\"])\n",
    "    PostsBestComments = pd.DataFrame(Posts.loc[Posts[\"PostTypeId\"] == 1].merge(CmtTotScr, how = \"inner\", left_on = \"Id\", right_on = \"PostId\"),\\\n",
    "                                     columns = [\"OwnerUserId\", \"Title\", \"CommentCount\", \"ViewCount\", \"CommentsTotalScore\"])\n",
    "    pandas_5 = pd.DataFrame(PostsBestComments.merge(Users, how = \"inner\", left_on = \"OwnerUserId\", right_on = \"Id\")\\\n",
    "                     .sort_values([\"CommentsTotalScore\"], ascending = False).reset_index(drop = True).head(10),\\\n",
    "                     columns = [\"Title\", \"CommentCount\", \"ViewCount\", \"CommentsTotalScore\", \"DisplayName\", \"Reputation\", \"Location\"])\n",
    "    # ...\n",
    "    # sprawdzenie równoważności wyników\n",
    "    print(pandas_5.equals(sql_5))\n",
    "\n",
    "except Exception as e:\n",
    "    print(\"Zad. 5: niepoprawny wynik.\")\n",
    "    print(e)"
   ]
  }
 ],
 "metadata": {
  "kernelspec": {
   "display_name": "Python 3 (ipykernel)",
   "language": "python",
   "name": "python3"
  },
  "language_info": {
   "codemirror_mode": {
    "name": "ipython",
    "version": 3
   },
   "file_extension": ".py",
   "mimetype": "text/x-python",
   "name": "python",
   "nbconvert_exporter": "python",
   "pygments_lexer": "ipython3",
   "version": "3.9.13"
  }
 },
 "nbformat": 4,
 "nbformat_minor": 5
}
